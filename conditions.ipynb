{
 "cells": [
  {
   "attachments": {},
   "cell_type": "markdown",
   "metadata": {},
   "source": [
    "## Conditions"
   ]
  },
  {
   "attachments": {},
   "cell_type": "markdown",
   "metadata": {},
   "source": [
    "- if - if else -nested if - if elif else -match"
   ]
  },
  {
   "cell_type": "code",
   "execution_count": 13,
   "metadata": {},
   "outputs": [
    {
     "name": "stdout",
     "output_type": "stream",
     "text": [
      "you are going to run this part\n",
      "you are going to see this part also\n",
      "count is even\n"
     ]
    }
   ],
   "source": [
    "count = int(input(\"enter a value\"))\n",
    "if count>5:\n",
    "    print(\"you are going to run this part\")\n",
    "if count>15:\n",
    "    print(\"you are going to see this part also\")\n",
    "if count%2==0:\n",
    "    print(\"count is even\")        "
   ]
  },
  {
   "attachments": {},
   "cell_type": "markdown",
   "metadata": {},
   "source": [
    "### Multiple conditions in an if statement"
   ]
  },
  {
   "cell_type": "code",
   "execution_count": 2,
   "metadata": {},
   "outputs": [
    {
     "name": "stdout",
     "output_type": "stream",
     "text": [
      "a=10is greater\n"
     ]
    }
   ],
   "source": [
    "a = 10\n",
    "b = 5\n",
    "c = 3\n",
    "if a>b and a>c:\n",
    "    print(f'{a=}is greater')\n",
    "if b>c and b>a:\n",
    "    print(f'{b=}is greater')\n",
    "if c>a and c>b:\n",
    "    print(f'{c=}is greater')        "
   ]
  },
  {
   "cell_type": "code",
   "execution_count": 10,
   "metadata": {},
   "outputs": [
    {
     "name": "stdout",
     "output_type": "stream",
     "text": [
      "Given number is odd\n"
     ]
    }
   ],
   "source": [
    "num = int (input(\"Enter a number:\"))\n",
    "if num % 2 == 0:\n",
    "    print(\"Given number is Even\")\n",
    "else:\n",
    "    print(\"Given number is odd\")    "
   ]
  },
  {
   "attachments": {},
   "cell_type": "markdown",
   "metadata": {},
   "source": [
    "## if-else"
   ]
  },
  {
   "cell_type": "code",
   "execution_count": 5,
   "metadata": {},
   "outputs": [
    {
     "name": "stdout",
     "output_type": "stream",
     "text": [
      "I am a genius\n"
     ]
    }
   ],
   "source": [
    "a = float(input('enter first number:'))\n",
    "b = float(input('enter second number:'))\n",
    "if a>=b:\n",
    "    print('I am a genius')\n",
    "else:\n",
    "    print('you are a fool')    "
   ]
  },
  {
   "cell_type": "code",
   "execution_count": 6,
   "metadata": {},
   "outputs": [
    {
     "data": {
      "text/plain": [
       "5"
      ]
     },
     "execution_count": 6,
     "metadata": {},
     "output_type": "execute_result"
    }
   ],
   "source": [
    "list = ['chrome','gallery','zomato','message','uber']\n",
    "len(list)"
   ]
  },
  {
   "cell_type": "code",
   "execution_count": 8,
   "metadata": {},
   "outputs": [
    {
     "name": "stdout",
     "output_type": "stream",
     "text": [
      "Hurray 😁\n"
     ]
    }
   ],
   "source": [
    "username = input('enter your name:')\n",
    "email = input('enter your email:')\n",
    "pwd = input('enter your password:')\n",
    "pwd2 = input('confirm your password:')\n",
    "\n",
    "if len(username)>=4 and len(username)<=15:\n",
    "    if '@' in email and email.islower() and len(email)>10:\n",
    "        if pwd==pwd2:\n",
    "            print(\"Hurray 😁\")\n",
    "        else:\n",
    "            print(\"passwords do not match 😒\")\n",
    "    else:\n",
    "        print(\"password is invalid 🤦‍♂️\")\n",
    "else:\n",
    "    print(\"username is invalid 🤷‍♂️\")                \n"
   ]
  },
  {
   "attachments": {},
   "cell_type": "markdown",
   "metadata": {},
   "source": [
    "## if-elif"
   ]
  },
  {
   "cell_type": "code",
   "execution_count": 9,
   "metadata": {},
   "outputs": [
    {
     "name": "stdout",
     "output_type": "stream",
     "text": [
      "you are outstanding\n"
     ]
    }
   ],
   "source": [
    "name = input(\"Enter your name:\")\n",
    "max_marks = int(input('Enter the marks:'))\n",
    "if max_marks>90:\n",
    "    print(\"you are outstanding\")\n",
    "elif max_marks>75:\n",
    "    print(\"you are intelligent\")\n",
    "elif max_marks>60:\n",
    "    print(\"you are a good performer\")\n",
    "else:\n",
    "    print(\"poor\")    \n"
   ]
  },
  {
   "cell_type": "markdown",
   "metadata": {},
   "source": []
  }
 ],
 "metadata": {
  "kernelspec": {
   "display_name": "Python 3",
   "language": "python",
   "name": "python3"
  },
  "language_info": {
   "codemirror_mode": {
    "name": "ipython",
    "version": 3
   },
   "file_extension": ".py",
   "mimetype": "text/x-python",
   "name": "python",
   "nbconvert_exporter": "python",
   "pygments_lexer": "ipython3",
   "version": "3.9.6"
  },
  "orig_nbformat": 4,
  "vscode": {
   "interpreter": {
    "hash": "7a2f9c8974ff4a6d11562e367bb1c52ab7b8919fa3fb899aff379dcd8c9984ff"
   }
  }
 },
 "nbformat": 4,
 "nbformat_minor": 2
}
