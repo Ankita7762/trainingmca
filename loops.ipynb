{
 "cells": [
  {
   "cell_type": "code",
   "execution_count": 1,
   "metadata": {},
   "outputs": [
    {
     "name": "stdout",
     "output_type": "stream",
     "text": [
      "23\n"
     ]
    }
   ],
   "source": [
    "name = \"vijay deenanath chauhan\"\n",
    "print(len(name))"
   ]
  },
  {
   "cell_type": "code",
   "execution_count": 2,
   "metadata": {},
   "outputs": [
    {
     "name": "stdout",
     "output_type": "stream",
     "text": [
      "v\n",
      "i\n",
      "j\n",
      "a\n",
      "y\n",
      " \n",
      "d\n",
      "e\n",
      "e\n",
      "n\n",
      "a\n",
      "n\n",
      "a\n",
      "t\n",
      "h\n",
      " \n",
      "c\n",
      "h\n",
      "a\n",
      "u\n",
      "h\n",
      "a\n",
      "n\n"
     ]
    }
   ],
   "source": [
    "for char in name:\n",
    "    print(char)"
   ]
  },
  {
   "cell_type": "code",
   "execution_count": 3,
   "metadata": {},
   "outputs": [
    {
     "name": "stdout",
     "output_type": "stream",
     "text": [
      "i\n",
      "a\n",
      "e\n",
      "e\n",
      "a\n",
      "a\n",
      "a\n",
      "u\n",
      "a\n"
     ]
    }
   ],
   "source": [
    "for i in name:\n",
    "    if i in 'aeiouAEIOU':\n",
    "        print(i)"
   ]
  },
  {
   "cell_type": "code",
   "execution_count": 4,
   "metadata": {},
   "outputs": [
    {
     "name": "stdout",
     "output_type": "stream",
     "text": [
      "v\n",
      "j\n",
      "y\n",
      " \n",
      "d\n",
      "n\n",
      "n\n",
      "t\n",
      "h\n",
      " \n",
      "c\n",
      "h\n",
      "h\n",
      "n\n"
     ]
    }
   ],
   "source": [
    "for i in name:\n",
    "    if i not in 'aeiouAEIOU':\n",
    "        print(i)"
   ]
  },
  {
   "cell_type": "code",
   "execution_count": 5,
   "metadata": {},
   "outputs": [
    {
     "name": "stdout",
     "output_type": "stream",
     "text": [
      "red\n",
      "green\n",
      "blue\n",
      "black\n"
     ]
    }
   ],
   "source": [
    "colors = ['red','green','blue','black']\n",
    "for color in colors:\n",
    "    print(color)"
   ]
  },
  {
   "cell_type": "code",
   "execution_count": 6,
   "metadata": {},
   "outputs": [
    {
     "name": "stdout",
     "output_type": "stream",
     "text": [
      "red has 3 chars\n",
      "green has 5 chars\n",
      "blue has 4 chars\n",
      "black has 5 chars\n"
     ]
    }
   ],
   "source": [
    "for c in colors:\n",
    "    print(f'{c} has {len(c)} chars')"
   ]
  },
  {
   "cell_type": "code",
   "execution_count": 7,
   "metadata": {},
   "outputs": [
    {
     "name": "stdout",
     "output_type": "stream",
     "text": [
      "red\n",
      "red has 3 chars\n",
      "green\n",
      "green has 5 chars\n",
      "blue\n",
      "blue has 4 chars\n",
      "black\n",
      "black has 5 chars\n"
     ]
    }
   ],
   "source": [
    "for c in colors:\n",
    "    print(c)\n",
    "    print(f'{c} has {len(c)} chars')"
   ]
  },
  {
   "attachments": {},
   "cell_type": "markdown",
   "metadata": {},
   "source": [
    "## Task 1"
   ]
  },
  {
   "attachments": {},
   "cell_type": "markdown",
   "metadata": {},
   "source": [
    "### wap to print if the len of a string is even or odd,from a list of string"
   ]
  },
  {
   "cell_type": "code",
   "execution_count": 11,
   "metadata": {},
   "outputs": [
    {
     "name": "stdout",
     "output_type": "stream",
     "text": [
      "the  number is event\n",
      "the provided number is odd\n"
     ]
    }
   ],
   "source": [
    "num = int (input(\"enter  the any number to test whether it is odd or event:\"))\n",
    "if(num%2)== 0:\n",
    "    print('the  number is event')\n",
    "    print ('the provided number is odd')"
   ]
  },
  {
   "attachments": {},
   "cell_type": "markdown",
   "metadata": {},
   "source": [
    "### RANGE() FUNCTION\n",
    "- range(100) - 0 to 99\n",
    "- range(10,50) - 10 to 49\n",
    "- range(1,100,5) 1 to 99,step 5\n",
    "- range(100,0,-1) -100 to 1, step-1\n",
    "- range(0,100,2) - 0 to 99,step 2(even number)\n",
    "- range(1,100,2) - 1 to 99,step 2(odd number)"
   ]
  },
  {
   "cell_type": "code",
   "execution_count": 1,
   "metadata": {},
   "outputs": [
    {
     "name": "stdout",
     "output_type": "stream",
     "text": [
      "rose\n",
      "jasmine\n",
      "lotus\n",
      "lily\n"
     ]
    }
   ],
   "source": [
    "flowers = ['rose','jasmine','lotus','lily']\n",
    "for flower in flowers:\n",
    "    print(flower)"
   ]
  },
  {
   "cell_type": "code",
   "execution_count": 2,
   "metadata": {},
   "outputs": [
    {
     "name": "stdout",
     "output_type": "stream",
     "text": [
      "0 rose\n",
      "1 jasmine\n",
      "2 lotus\n",
      "3 lily\n"
     ]
    }
   ],
   "source": [
    "for i, flower in enumerate(flowers):\n",
    "    print(i,flower)"
   ]
  },
  {
   "cell_type": "code",
   "execution_count": 3,
   "metadata": {},
   "outputs": [
    {
     "name": "stdout",
     "output_type": "stream",
     "text": [
      "(1 + 3)**2 = 16\n",
      "(2 + 5)**2 = 49\n",
      "(3 + 6)**2 = 81\n",
      "(4 + 7)**2 = 121\n",
      "(5 + 8)**2 = 169\n",
      "(6 + 2)**2 = 64\n"
     ]
    }
   ],
   "source": [
    "x = [1,2,3,4,5,6]\n",
    "y = [3,5,6,7,8,2]\n",
    "# use the formula (a + b)**2 for each pair of value from both list\n",
    "for i, j in zip(x, y):\n",
    "    print(f'({i} + {j})**2 = {(i + j)**2}')"
   ]
  },
  {
   "attachments": {},
   "cell_type": "markdown",
   "metadata": {},
   "source": [
    "## Break and Continue"
   ]
  },
  {
   "cell_type": "code",
   "execution_count": 4,
   "metadata": {},
   "outputs": [
    {
     "name": "stdout",
     "output_type": "stream",
     "text": [
      "[2, 3, 4, 0, 0, 0, 6, 6, 1, 0, 2, 3, 4, 0, 0, 5, 6, 7, 7, 3, 0, 0, 0, 2, 1, 1]\n",
      "[2, 3, 4, 0, 0, 0, 6, 6, 1, 0, 2, 3, 4, 0, 0, 5, 6, 7, 7, 3, 0, 0, 0, 2, 1, 1]\n",
      "[2, 3, 4, 0, 0, 0, 6, 6, 1, 0, 2, 3, 4, 0, 0, 5, 6, 7, 7, 3, 0, 0, 0, 2, 1, 1]\n",
      "[2, 3, 4, 0, 0, 0, 6, 6, 1, 0, 2, 3, 4, 0, 0, 5, 6, 7, 7, 3, 0, 0, 0, 2, 1, 1]\n",
      "[2, 3, 4, 0, 0, 0, 6, 6, 1, 0, 2, 3, 4, 0, 0, 5, 6, 7, 7, 3, 0, 0, 0, 2, 1, 1]\n",
      "[2, 3, 4, 0, 0, 0, 6, 6, 1, 0, 2, 3, 4, 0, 0, 5, 6, 7, 7, 3, 0, 0, 0, 2, 1, 1]\n",
      "[2, 3, 4, 0, 0, 0, 6, 6, 1, 0, 2, 3, 4, 0, 0, 5, 6, 7, 7, 3, 0, 0, 0, 2, 1, 1]\n",
      "[2, 3, 4, 0, 0, 0, 6, 6, 1, 0, 2, 3, 4, 0, 0, 5, 6, 7, 7, 3, 0, 0, 0, 2, 1, 1]\n",
      "[2, 3, 4, 0, 0, 0, 6, 6, 1, 0, 2, 3, 4, 0, 0, 5, 6, 7, 7, 3, 0, 0, 0, 2, 1, 1]\n",
      "[2, 3, 4, 0, 0, 0, 6, 6, 1, 0, 2, 3, 4, 0, 0, 5, 6, 7, 7, 3, 0, 0, 0, 2, 1, 1]\n",
      "[2, 3, 4, 0, 0, 0, 6, 6, 1, 0, 2, 3, 4, 0, 0, 5, 6, 7, 7, 3, 0, 0, 0, 2, 1, 1]\n",
      "[2, 3, 4, 0, 0, 0, 6, 6, 1, 0, 2, 3, 4, 0, 0, 5, 6, 7, 7, 3, 0, 0, 0, 2, 1, 1]\n",
      "[2, 3, 4, 0, 0, 0, 6, 6, 1, 0, 2, 3, 4, 0, 0, 5, 6, 7, 7, 3, 0, 0, 0, 2, 1, 1]\n",
      "[2, 3, 4, 0, 0, 0, 6, 6, 1, 0, 2, 3, 4, 0, 0, 5, 6, 7, 7, 3, 0, 0, 0, 2, 1, 1]\n",
      "[2, 3, 4, 0, 0, 0, 6, 6, 1, 0, 2, 3, 4, 0, 0, 5, 6, 7, 7, 3, 0, 0, 0, 2, 1, 1]\n",
      "[2, 3, 4, 0, 0, 0, 6, 6, 1, 0, 2, 3, 4, 0, 0, 5, 6, 7, 7, 3, 0, 0, 0, 2, 1, 1]\n",
      "[2, 3, 4, 0, 0, 0, 6, 6, 1, 0, 2, 3, 4, 0, 0, 5, 6, 7, 7, 3, 0, 0, 0, 2, 1, 1]\n",
      "[2, 3, 4, 0, 0, 0, 6, 6, 1, 0, 2, 3, 4, 0, 0, 5, 6, 7, 7, 3, 0, 0, 0, 2, 1, 1]\n",
      "[2, 3, 4, 0, 0, 0, 6, 6, 1, 0, 2, 3, 4, 0, 0, 5, 6, 7, 7, 3, 0, 0, 0, 2, 1, 1]\n",
      "[2, 3, 4, 0, 0, 0, 6, 6, 1, 0, 2, 3, 4, 0, 0, 5, 6, 7, 7, 3, 0, 0, 0, 2, 1, 1]\n",
      "[2, 3, 4, 0, 0, 0, 6, 6, 1, 0, 2, 3, 4, 0, 0, 5, 6, 7, 7, 3, 0, 0, 0, 2, 1, 1]\n",
      "[2, 3, 4, 0, 0, 0, 6, 6, 1, 0, 2, 3, 4, 0, 0, 5, 6, 7, 7, 3, 0, 0, 0, 2, 1, 1]\n",
      "[2, 3, 4, 0, 0, 0, 6, 6, 1, 0, 2, 3, 4, 0, 0, 5, 6, 7, 7, 3, 0, 0, 0, 2, 1, 1]\n",
      "[2, 3, 4, 0, 0, 0, 6, 6, 1, 0, 2, 3, 4, 0, 0, 5, 6, 7, 7, 3, 0, 0, 0, 2, 1, 1]\n",
      "[2, 3, 4, 0, 0, 0, 6, 6, 1, 0, 2, 3, 4, 0, 0, 5, 6, 7, 7, 3, 0, 0, 0, 2, 1, 1]\n",
      "[2, 3, 4, 0, 0, 0, 6, 6, 1, 0, 2, 3, 4, 0, 0, 5, 6, 7, 7, 3, 0, 0, 0, 2, 1, 1]\n"
     ]
    }
   ],
   "source": [
    "a = [2,3,4,0,0,0,6,6,1,0,2,3,4,0,0,5,6,7,7,3,0,0,0,2,1,1]\n",
    "for i in a: \n",
    "    print(a)"
   ]
  },
  {
   "cell_type": "code",
   "execution_count": 6,
   "metadata": {},
   "outputs": [
    {
     "name": "stdout",
     "output_type": "stream",
     "text": [
      "2\n",
      "3\n",
      "4\n",
      "6\n",
      "6\n",
      "1\n",
      "2\n",
      "3\n",
      "4\n",
      "5\n",
      "6\n",
      "7\n",
      "7\n",
      "3\n",
      "2\n",
      "1\n",
      "1\n"
     ]
    }
   ],
   "source": [
    "a = [2,3,4,0,0,0,6,6,1,0,2,3,4,0,0,5,6,7,7,3,0,0,0,2,1,1]\n",
    "for i in a: \n",
    "    if i == 0: continue\n",
    "    print(i)\n",
    "     "
   ]
  },
  {
   "cell_type": "code",
   "execution_count": 8,
   "metadata": {},
   "outputs": [
    {
     "name": "stdout",
     "output_type": "stream",
     "text": [
      "sam\n",
      "sara\n",
      "alexa\n"
     ]
    }
   ],
   "source": [
    "names = ['sam','sara','alexa','','alex','john','','jill','jack']\n",
    "for name in names:\n",
    "    if len(name) == 0: break\n",
    "    print(name)"
   ]
  },
  {
   "cell_type": "code",
   "execution_count": 10,
   "metadata": {},
   "outputs": [
    {
     "name": "stdout",
     "output_type": "stream",
     "text": [
      "sam\n",
      "sara\n",
      "alexa\n",
      "Error: Empty name found\n"
     ]
    }
   ],
   "source": [
    "for name in names:\n",
    "    if len(name) == 0:\n",
    "        print('Error: Empty name found')\n",
    "        break\n",
    "    print(name)"
   ]
  },
  {
   "cell_type": "code",
   "execution_count": null,
   "metadata": {},
   "outputs": [],
   "source": []
  }
 ],
 "metadata": {
  "kernelspec": {
   "display_name": "Python 3",
   "language": "python",
   "name": "python3"
  },
  "language_info": {
   "codemirror_mode": {
    "name": "ipython",
    "version": 3
   },
   "file_extension": ".py",
   "mimetype": "text/x-python",
   "name": "python",
   "nbconvert_exporter": "python",
   "pygments_lexer": "ipython3",
   "version": "3.9.6"
  },
  "orig_nbformat": 4,
  "vscode": {
   "interpreter": {
    "hash": "7a2f9c8974ff4a6d11562e367bb1c52ab7b8919fa3fb899aff379dcd8c9984ff"
   }
  }
 },
 "nbformat": 4,
 "nbformat_minor": 2
}
