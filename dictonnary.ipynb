{
 "cells": [
  {
   "attachments": {},
   "cell_type": "markdown",
   "metadata": {},
   "source": [
    "### Dictionary\n",
    "- ordered data structure\n",
    "- unindexed,mutable\n",
    "- key : value pair\n",
    "- key is immutable, unique\n",
    "- value is mutable and can be duplicated and heterogeneous\n",
    "- dictionary can be nested\n",
    "- dictionary can be created using `dict()` function\n",
    "- dictionary can be created using `()` curly braces"
   ]
  },
  {
   "cell_type": "code",
   "execution_count": 1,
   "metadata": {},
   "outputs": [
    {
     "name": "stdout",
     "output_type": "stream",
     "text": [
      "['Brandon Sanderson', 'The Lost Metal', 7, 'Fantasy', '2022', '19.00']\n"
     ]
    }
   ],
   "source": [
    "details = ['Brandon Sanderson','The Lost Metal',7,'Fantasy','2022','19.00']\n",
    "print(details)"
   ]
  },
  {
   "cell_type": "code",
   "execution_count": 2,
   "metadata": {},
   "outputs": [],
   "source": [
    "details_dict ={\n",
    "    'Author':'Brandom Sanderson',\n",
    "    'Title':'The Lost Metal',\n",
    "    'Part':7,\n",
    "    'Genre':'Fantasy',\n",
    "    'Release Data':'2002',\n",
    "    'Price':'$19.00'\n",
    "}"
   ]
  },
  {
   "cell_type": "code",
   "execution_count": 3,
   "metadata": {},
   "outputs": [
    {
     "name": "stdout",
     "output_type": "stream",
     "text": [
      "{'Author': 'Brandom Sanderson', 'Title': 'The Lost Metal', 'Part': 7, 'Genre': 'Fantasy', 'Release Data': '2002', 'Price': '$19.00'}\n",
      "<class 'dict'>\n"
     ]
    }
   ],
   "source": [
    "print(details_dict)\n",
    "print(type(details_dict))"
   ]
  },
  {
   "cell_type": "code",
   "execution_count": 4,
   "metadata": {},
   "outputs": [
    {
     "data": {
      "text/plain": [
       "{'Author': 'Brandom Sanderson',\n",
       " 'Title': 'The Lost Metal',\n",
       " 'Part': 7,\n",
       " 'Genre': 'Fantasy',\n",
       " 'Release Data': '2002',\n",
       " 'Price': '$19.00'}"
      ]
     },
     "execution_count": 4,
     "metadata": {},
     "output_type": "execute_result"
    }
   ],
   "source": [
    "details_dict"
   ]
  },
  {
   "cell_type": "code",
   "execution_count": 5,
   "metadata": {},
   "outputs": [],
   "source": [
    "details_dict['Pages'] = 528"
   ]
  },
  {
   "cell_type": "code",
   "execution_count": 6,
   "metadata": {},
   "outputs": [
    {
     "data": {
      "text/plain": [
       "{'Author': 'Brandom Sanderson',\n",
       " 'Title': 'The Lost Metal',\n",
       " 'Part': 7,\n",
       " 'Genre': 'Fantasy',\n",
       " 'Release Data': '2002',\n",
       " 'Price': '$19.00',\n",
       " 'Pages': 528}"
      ]
     },
     "execution_count": 6,
     "metadata": {},
     "output_type": "execute_result"
    }
   ],
   "source": [
    "details_dict"
   ]
  },
  {
   "cell_type": "code",
   "execution_count": 7,
   "metadata": {},
   "outputs": [
    {
     "name": "stdout",
     "output_type": "stream",
     "text": [
      "Author\n",
      "Title\n",
      "Part\n",
      "Genre\n",
      "Release Data\n",
      "Price\n",
      "Pages\n"
     ]
    }
   ],
   "source": [
    "for k in details_dict:\n",
    "    print(k)"
   ]
  },
  {
   "cell_type": "code",
   "execution_count": 8,
   "metadata": {},
   "outputs": [
    {
     "name": "stdout",
     "output_type": "stream",
     "text": [
      "Brandom Sanderson\n",
      "The Lost Metal\n",
      "7\n",
      "Fantasy\n",
      "2002\n",
      "$19.00\n",
      "528\n"
     ]
    }
   ],
   "source": [
    "for k in details_dict:\n",
    "    print(details_dict[k])"
   ]
  },
  {
   "cell_type": "code",
   "execution_count": 9,
   "metadata": {},
   "outputs": [
    {
     "name": "stdout",
     "output_type": "stream",
     "text": [
      "Author               Brandom Sanderson\n",
      "Title                The Lost Metal\n",
      "Part                 7\n",
      "Genre                Fantasy\n",
      "Release Data         2002\n",
      "Price                $19.00\n",
      "Pages                528\n"
     ]
    }
   ],
   "source": [
    "for k,v in details_dict.items():\n",
    "    print(f'{k:20} {v}')"
   ]
  },
  {
   "cell_type": "code",
   "execution_count": 10,
   "metadata": {},
   "outputs": [
    {
     "data": {
      "text/plain": [
       "dict_values(['Brandom Sanderson', 'The Lost Metal', 7, 'Fantasy', '2002', '$19.00', 528])"
      ]
     },
     "execution_count": 10,
     "metadata": {},
     "output_type": "execute_result"
    }
   ],
   "source": [
    "details_dict.values()"
   ]
  },
  {
   "cell_type": "code",
   "execution_count": 11,
   "metadata": {},
   "outputs": [
    {
     "data": {
      "text/plain": [
       "['Brandom Sanderson', 'The Lost Metal', 7, 'Fantasy', '2002', '$19.00', 528]"
      ]
     },
     "execution_count": 11,
     "metadata": {},
     "output_type": "execute_result"
    }
   ],
   "source": [
    "list(details_dict.values())"
   ]
  },
  {
   "cell_type": "code",
   "execution_count": 13,
   "metadata": {},
   "outputs": [
    {
     "data": {
      "text/plain": [
       "['Author', 'Title', 'Part', 'Genre', 'Release Data', 'Price', 'Pages']"
      ]
     },
     "execution_count": 13,
     "metadata": {},
     "output_type": "execute_result"
    }
   ],
   "source": [
    "list(details_dict.keys())"
   ]
  },
  {
   "cell_type": "code",
   "execution_count": 14,
   "metadata": {},
   "outputs": [],
   "source": [
    "details_dict.get('Page')"
   ]
  },
  {
   "cell_type": "code",
   "execution_count": 15,
   "metadata": {},
   "outputs": [],
   "source": [
    "Student_details ={\n",
    "    'Name': 'Ankita',\n",
    "    'collage':'BBDU',\n",
    "    'Course':'MCA DS&AI',\n",
    "    'Roll No':11\n",
    "}"
   ]
  },
  {
   "cell_type": "code",
   "execution_count": 17,
   "metadata": {},
   "outputs": [
    {
     "data": {
      "text/plain": [
       "{'Name': 'Ankita', 'collage': 'BBDU', 'Course': 'MCA DS&AI', 'Roll No': 11}"
      ]
     },
     "execution_count": 17,
     "metadata": {},
     "output_type": "execute_result"
    }
   ],
   "source": [
    "Student_details"
   ]
  },
  {
   "cell_type": "code",
   "execution_count": null,
   "metadata": {},
   "outputs": [],
   "source": []
  }
 ],
 "metadata": {
  "kernelspec": {
   "display_name": "Python 3",
   "language": "python",
   "name": "python3"
  },
  "language_info": {
   "codemirror_mode": {
    "name": "ipython",
    "version": 3
   },
   "file_extension": ".py",
   "mimetype": "text/x-python",
   "name": "python",
   "nbconvert_exporter": "python",
   "pygments_lexer": "ipython3",
   "version": "3.9.6"
  },
  "orig_nbformat": 4,
  "vscode": {
   "interpreter": {
    "hash": "7a2f9c8974ff4a6d11562e367bb1c52ab7b8919fa3fb899aff379dcd8c9984ff"
   }
  }
 },
 "nbformat": 4,
 "nbformat_minor": 2
}
