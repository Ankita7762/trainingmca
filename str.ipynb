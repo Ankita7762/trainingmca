{
 "cells": [
  {
   "cell_type": "code",
   "execution_count": 1,
   "metadata": {},
   "outputs": [
    {
     "name": "stdout",
     "output_type": "stream",
     "text": [
      "str =  digipodium\n"
     ]
    }
   ],
   "source": [
    "str = 'digipodium'\n",
    "print('str = ', str)"
   ]
  },
  {
   "cell_type": "code",
   "execution_count": 2,
   "metadata": {},
   "outputs": [
    {
     "name": "stdout",
     "output_type": "stream",
     "text": [
      "str[0] =  d\n"
     ]
    }
   ],
   "source": [
    "print('str[0] = ', str[0])"
   ]
  },
  {
   "cell_type": "code",
   "execution_count": 3,
   "metadata": {},
   "outputs": [
    {
     "name": "stdout",
     "output_type": "stream",
     "text": [
      "str[1] =  i\n"
     ]
    }
   ],
   "source": [
    "print('str[1] = ', str[1])"
   ]
  },
  {
   "cell_type": "code",
   "execution_count": 4,
   "metadata": {},
   "outputs": [
    {
     "name": "stdout",
     "output_type": "stream",
     "text": [
      "str[-1] =  m\n"
     ]
    }
   ],
   "source": [
    "print('str[-1] = ', str[-1])"
   ]
  },
  {
   "cell_type": "code",
   "execution_count": 5,
   "metadata": {},
   "outputs": [
    {
     "name": "stdout",
     "output_type": "stream",
     "text": [
      "str[-2] =  u\n"
     ]
    }
   ],
   "source": [
    "print('str[-2] = ', str[-2])"
   ]
  },
  {
   "attachments": {},
   "cell_type": "markdown",
   "metadata": {},
   "source": [
    "### Slicing"
   ]
  },
  {
   "cell_type": "code",
   "execution_count": 6,
   "metadata": {},
   "outputs": [
    {
     "data": {
      "text/plain": [
       "26"
      ]
     },
     "execution_count": 6,
     "metadata": {},
     "output_type": "execute_result"
    }
   ],
   "source": [
    "alphabets = \"abcdefghijklmnopqrstuvwxyz\"\n",
    "len(alphabets)"
   ]
  },
  {
   "cell_type": "code",
   "execution_count": 7,
   "metadata": {},
   "outputs": [
    {
     "data": {
      "text/plain": [
       "'ghijklmnopqrstu'"
      ]
     },
     "execution_count": 7,
     "metadata": {},
     "output_type": "execute_result"
    }
   ],
   "source": [
    "alphabets[6:21]"
   ]
  },
  {
   "cell_type": "code",
   "execution_count": 8,
   "metadata": {},
   "outputs": [
    {
     "data": {
      "text/plain": [
       "'ghijklmnopqrst'"
      ]
     },
     "execution_count": 8,
     "metadata": {},
     "output_type": "execute_result"
    }
   ],
   "source": [
    "alphabets[6:-6]"
   ]
  },
  {
   "cell_type": "code",
   "execution_count": 10,
   "metadata": {},
   "outputs": [
    {
     "data": {
      "text/plain": [
       "'mnopqrstuvw'"
      ]
     },
     "execution_count": 10,
     "metadata": {},
     "output_type": "execute_result"
    }
   ],
   "source": [
    "alphabets[12:23]"
   ]
  },
  {
   "cell_type": "code",
   "execution_count": 12,
   "metadata": {},
   "outputs": [
    {
     "name": "stdout",
     "output_type": "stream",
     "text": [
      "abcde vwxyz klmno\n"
     ]
    }
   ],
   "source": [
    "first_five = alphabets[:5] # first five characters\n",
    "last_five = alphabets[-5:] # last five characters\n",
    "x = 15\n",
    "high_five = alphabets[10:10+5] # 5 characters starting at index 10\n",
    "print(first_five, last_five, high_five)"
   ]
  },
  {
   "cell_type": "code",
   "execution_count": 13,
   "metadata": {},
   "outputs": [
    {
     "name": "stdout",
     "output_type": "stream",
     "text": [
      "acegikmoqsuwy\n"
     ]
    }
   ],
   "source": [
    "every_even_index = alphabets[::2]  # every other characters\n",
    "print(every_even_index)"
   ]
  },
  {
   "cell_type": "code",
   "execution_count": 14,
   "metadata": {},
   "outputs": [
    {
     "name": "stdout",
     "output_type": "stream",
     "text": [
      "bdfhjlnprtvxz\n"
     ]
    }
   ],
   "source": [
    "every_odd_index = alphabets[1::2]\n",
    "print(every_odd_index)"
   ]
  },
  {
   "cell_type": "code",
   "execution_count": 15,
   "metadata": {},
   "outputs": [
    {
     "name": "stdout",
     "output_type": "stream",
     "text": [
      "akt ig\n",
      "niasnh\n",
      "hgnis atikna\n"
     ]
    }
   ],
   "source": [
    "name = 'ankita singh'\n",
    "name_even = name[::2]\n",
    "name_odd = name[1::2]\n",
    "rev_name = name[::-1] # revers the string using negative step\n",
    "print(name_even, name_odd, rev_name, sep= '\\n')"
   ]
  },
  {
   "cell_type": "code",
   "execution_count": 16,
   "metadata": {},
   "outputs": [
    {
     "name": "stdout",
     "output_type": "stream",
     "text": [
      "65\n",
      "66\n",
      "67\n",
      "128522\n",
      "127810\n"
     ]
    }
   ],
   "source": [
    "print(ord('A'))\n",
    "print(ord('B'))\n",
    "print(ord('C'))\n",
    "print(ord('😊'))\n",
    "print(ord('🍂'))\n"
   ]
  },
  {
   "cell_type": "code",
   "execution_count": 17,
   "metadata": {},
   "outputs": [
    {
     "name": "stdout",
     "output_type": "stream",
     "text": [
      "\u0000\n",
      "\u0001\n",
      "😄\n"
     ]
    }
   ],
   "source": [
    "print(chr(0))\n",
    "print(chr(1))\n",
    "print(chr(128516))"
   ]
  },
  {
   "attachments": {},
   "cell_type": "markdown",
   "metadata": {},
   "source": [
    "### Duplication"
   ]
  },
  {
   "cell_type": "code",
   "execution_count": 19,
   "metadata": {},
   "outputs": [
    {
     "name": "stdout",
     "output_type": "stream",
     "text": [
      "hellohellohello\n"
     ]
    }
   ],
   "source": [
    "word = 'hello'\n",
    "print(word * 3)"
   ]
  },
  {
   "cell_type": "code",
   "execution_count": 20,
   "metadata": {},
   "outputs": [
    {
     "name": "stdout",
     "output_type": "stream",
     "text": [
      "_________________________\n"
     ]
    }
   ],
   "source": [
    "print('_' * 25)"
   ]
  },
  {
   "attachments": {},
   "cell_type": "markdown",
   "metadata": {},
   "source": [
    "### Pattern"
   ]
  },
  {
   "cell_type": "code",
   "execution_count": 23,
   "metadata": {},
   "outputs": [
    {
     "name": "stdout",
     "output_type": "stream",
     "text": [
      "               *              \n",
      "             * * *            \n",
      "           * * * * *          \n",
      "         * * * * * * *        \n",
      "       * * * * * * * * *      \n",
      "     * * * * * * * * * * *    \n",
      "   * * * * * * * * * * * * *  \n"
     ]
    }
   ],
   "source": [
    "for i in range(1,15,2):\n",
    "    print((i * ' *').center(30))"
   ]
  },
  {
   "cell_type": "code",
   "execution_count": null,
   "metadata": {},
   "outputs": [],
   "source": []
  }
 ],
 "metadata": {
  "kernelspec": {
   "display_name": "Python 3",
   "language": "python",
   "name": "python3"
  },
  "language_info": {
   "codemirror_mode": {
    "name": "ipython",
    "version": 3
   },
   "file_extension": ".py",
   "mimetype": "text/x-python",
   "name": "python",
   "nbconvert_exporter": "python",
   "pygments_lexer": "ipython3",
   "version": "3.9.6"
  },
  "orig_nbformat": 4,
  "vscode": {
   "interpreter": {
    "hash": "7a2f9c8974ff4a6d11562e367bb1c52ab7b8919fa3fb899aff379dcd8c9984ff"
   }
  }
 },
 "nbformat": 4,
 "nbformat_minor": 2
}
