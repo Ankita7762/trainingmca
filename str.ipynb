{
 "cells": [
  {
   "cell_type": "code",
   "execution_count": 1,
   "metadata": {},
   "outputs": [
    {
     "name": "stdout",
     "output_type": "stream",
     "text": [
      "str =  digipodium\n"
     ]
    }
   ],
   "source": [
    "str = 'digipodium'\n",
    "print('str = ', str)"
   ]
  },
  {
   "cell_type": "code",
   "execution_count": 2,
   "metadata": {},
   "outputs": [
    {
     "name": "stdout",
     "output_type": "stream",
     "text": [
      "str[0] =  d\n"
     ]
    }
   ],
   "source": [
    "print('str[0] = ', str[0])"
   ]
  },
  {
   "cell_type": "code",
   "execution_count": 3,
   "metadata": {},
   "outputs": [
    {
     "name": "stdout",
     "output_type": "stream",
     "text": [
      "str[1] =  i\n"
     ]
    }
   ],
   "source": [
    "print('str[1] = ', str[1])"
   ]
  },
  {
   "cell_type": "code",
   "execution_count": 4,
   "metadata": {},
   "outputs": [
    {
     "name": "stdout",
     "output_type": "stream",
     "text": [
      "str[-1] =  m\n"
     ]
    }
   ],
   "source": [
    "print('str[-1] = ', str[-1])"
   ]
  },
  {
   "cell_type": "code",
   "execution_count": 5,
   "metadata": {},
   "outputs": [
    {
     "name": "stdout",
     "output_type": "stream",
     "text": [
      "str[-2] =  u\n"
     ]
    }
   ],
   "source": [
    "print('str[-2] = ', str[-2])"
   ]
  },
  {
   "attachments": {},
   "cell_type": "markdown",
   "metadata": {},
   "source": [
    "### Slicing"
   ]
  },
  {
   "cell_type": "code",
   "execution_count": 6,
   "metadata": {},
   "outputs": [
    {
     "data": {
      "text/plain": [
       "26"
      ]
     },
     "execution_count": 6,
     "metadata": {},
     "output_type": "execute_result"
    }
   ],
   "source": [
    "alphabets = \"abcdefghijklmnopqrstuvwxyz\"\n",
    "len(alphabets)"
   ]
  },
  {
   "cell_type": "code",
   "execution_count": 7,
   "metadata": {},
   "outputs": [
    {
     "data": {
      "text/plain": [
       "'ghijklmnopqrstu'"
      ]
     },
     "execution_count": 7,
     "metadata": {},
     "output_type": "execute_result"
    }
   ],
   "source": [
    "alphabets[6:21]"
   ]
  },
  {
   "cell_type": "code",
   "execution_count": 8,
   "metadata": {},
   "outputs": [
    {
     "data": {
      "text/plain": [
       "'ghijklmnopqrst'"
      ]
     },
     "execution_count": 8,
     "metadata": {},
     "output_type": "execute_result"
    }
   ],
   "source": [
    "alphabets[6:-6]"
   ]
  },
  {
   "cell_type": "code",
   "execution_count": 10,
   "metadata": {},
   "outputs": [
    {
     "data": {
      "text/plain": [
       "'mnopqrstuvw'"
      ]
     },
     "execution_count": 10,
     "metadata": {},
     "output_type": "execute_result"
    }
   ],
   "source": [
    "alphabets[12:23]"
   ]
  },
  {
   "cell_type": "code",
   "execution_count": 12,
   "metadata": {},
   "outputs": [
    {
     "name": "stdout",
     "output_type": "stream",
     "text": [
      "abcde vwxyz klmno\n"
     ]
    }
   ],
   "source": [
    "first_five = alphabets[:5] # first five characters\n",
    "last_five = alphabets[-5:] # last five characters\n",
    "x = 15\n",
    "high_five = alphabets[10:10+5] # 5 characters starting at index 10\n",
    "print(first_five, last_five, high_five)"
   ]
  },
  {
   "cell_type": "code",
   "execution_count": 13,
   "metadata": {},
   "outputs": [
    {
     "name": "stdout",
     "output_type": "stream",
     "text": [
      "acegikmoqsuwy\n"
     ]
    }
   ],
   "source": [
    "every_even_index = alphabets[::2]  # every other characters\n",
    "print(every_even_index)"
   ]
  },
  {
   "cell_type": "code",
   "execution_count": 14,
   "metadata": {},
   "outputs": [
    {
     "name": "stdout",
     "output_type": "stream",
     "text": [
      "bdfhjlnprtvxz\n"
     ]
    }
   ],
   "source": [
    "every_odd_index = alphabets[1::2]\n",
    "print(every_odd_index)"
   ]
  },
  {
   "cell_type": "code",
   "execution_count": 15,
   "metadata": {},
   "outputs": [
    {
     "name": "stdout",
     "output_type": "stream",
     "text": [
      "akt ig\n",
      "niasnh\n",
      "hgnis atikna\n"
     ]
    }
   ],
   "source": [
    "name = 'ankita singh'\n",
    "name_even = name[::2]\n",
    "name_odd = name[1::2]\n",
    "rev_name = name[::-1] # revers the string using negative step\n",
    "print(name_even, name_odd, rev_name, sep= '\\n')"
   ]
  },
  {
   "cell_type": "code",
   "execution_count": 16,
   "metadata": {},
   "outputs": [
    {
     "name": "stdout",
     "output_type": "stream",
     "text": [
      "65\n",
      "66\n",
      "67\n",
      "128522\n",
      "127810\n"
     ]
    }
   ],
   "source": [
    "print(ord('A'))\n",
    "print(ord('B'))\n",
    "print(ord('C'))\n",
    "print(ord('😊'))\n",
    "print(ord('🍂'))\n"
   ]
  },
  {
   "cell_type": "code",
   "execution_count": 17,
   "metadata": {},
   "outputs": [
    {
     "name": "stdout",
     "output_type": "stream",
     "text": [
      "\u0000\n",
      "\u0001\n",
      "😄\n"
     ]
    }
   ],
   "source": [
    "print(chr(0))\n",
    "print(chr(1))\n",
    "print(chr(128516))"
   ]
  },
  {
   "cell_type": "code",
   "execution_count": 18,
   "metadata": {},
   "outputs": [
    {
     "name": "stdout",
     "output_type": "stream",
     "text": [
      "128500 🗴\n",
      "128501 🗵\n",
      "128502 🗶\n",
      "128503 🗷\n",
      "128504 🗸\n",
      "128505 🗹\n",
      "128506 🗺\n",
      "128507 🗻\n",
      "128508 🗼\n",
      "128509 🗽\n",
      "128510 🗾\n",
      "128511 🗿\n",
      "128512 😀\n",
      "128513 😁\n",
      "128514 😂\n",
      "128515 😃\n",
      "128516 😄\n",
      "128517 😅\n",
      "128518 😆\n",
      "128519 😇\n",
      "128520 😈\n",
      "128521 😉\n",
      "128522 😊\n",
      "128523 😋\n",
      "128524 😌\n",
      "128525 😍\n",
      "128526 😎\n",
      "128527 😏\n",
      "128528 😐\n",
      "128529 😑\n",
      "128530 😒\n",
      "128531 😓\n",
      "128532 😔\n",
      "128533 😕\n",
      "128534 😖\n",
      "128535 😗\n",
      "128536 😘\n",
      "128537 😙\n",
      "128538 😚\n",
      "128539 😛\n",
      "128540 😜\n",
      "128541 😝\n",
      "128542 😞\n",
      "128543 😟\n",
      "128544 😠\n",
      "128545 😡\n",
      "128546 😢\n",
      "128547 😣\n",
      "128548 😤\n",
      "128549 😥\n",
      "128550 😦\n",
      "128551 😧\n",
      "128552 😨\n",
      "128553 😩\n",
      "128554 😪\n",
      "128555 😫\n",
      "128556 😬\n",
      "128557 😭\n",
      "128558 😮\n",
      "128559 😯\n",
      "128560 😰\n",
      "128561 😱\n",
      "128562 😲\n",
      "128563 😳\n",
      "128564 😴\n",
      "128565 😵\n",
      "128566 😶\n",
      "128567 😷\n",
      "128568 😸\n",
      "128569 😹\n",
      "128570 😺\n",
      "128571 😻\n",
      "128572 😼\n",
      "128573 😽\n",
      "128574 😾\n",
      "128575 😿\n",
      "128576 🙀\n",
      "128577 🙁\n",
      "128578 🙂\n",
      "128579 🙃\n",
      "128580 🙄\n",
      "128581 🙅\n",
      "128582 🙆\n",
      "128583 🙇\n",
      "128584 🙈\n",
      "128585 🙉\n",
      "128586 🙊\n",
      "128587 🙋\n",
      "128588 🙌\n",
      "128589 🙍\n",
      "128590 🙎\n",
      "128591 🙏\n",
      "128592 🙐\n",
      "128593 🙑\n",
      "128594 🙒\n",
      "128595 🙓\n",
      "128596 🙔\n",
      "128597 🙕\n",
      "128598 🙖\n",
      "128599 🙗\n",
      "128600 🙘\n",
      "128601 🙙\n",
      "128602 🙚\n",
      "128603 🙛\n",
      "128604 🙜\n",
      "128605 🙝\n",
      "128606 🙞\n",
      "128607 🙟\n",
      "128608 🙠\n",
      "128609 🙡\n",
      "128610 🙢\n",
      "128611 🙣\n",
      "128612 🙤\n",
      "128613 🙥\n",
      "128614 🙦\n",
      "128615 🙧\n",
      "128616 🙨\n",
      "128617 🙩\n",
      "128618 🙪\n",
      "128619 🙫\n",
      "128620 🙬\n",
      "128621 🙭\n",
      "128622 🙮\n",
      "128623 🙯\n",
      "128624 🙰\n",
      "128625 🙱\n",
      "128626 🙲\n",
      "128627 🙳\n",
      "128628 🙴\n",
      "128629 🙵\n",
      "128630 🙶\n",
      "128631 🙷\n",
      "128632 🙸\n",
      "128633 🙹\n",
      "128634 🙺\n",
      "128635 🙻\n",
      "128636 🙼\n",
      "128637 🙽\n",
      "128638 🙾\n",
      "128639 🙿\n",
      "128640 🚀\n",
      "128641 🚁\n",
      "128642 🚂\n",
      "128643 🚃\n",
      "128644 🚄\n",
      "128645 🚅\n",
      "128646 🚆\n",
      "128647 🚇\n",
      "128648 🚈\n",
      "128649 🚉\n",
      "128650 🚊\n",
      "128651 🚋\n",
      "128652 🚌\n",
      "128653 🚍\n",
      "128654 🚎\n",
      "128655 🚏\n",
      "128656 🚐\n",
      "128657 🚑\n",
      "128658 🚒\n",
      "128659 🚓\n",
      "128660 🚔\n",
      "128661 🚕\n",
      "128662 🚖\n",
      "128663 🚗\n",
      "128664 🚘\n",
      "128665 🚙\n",
      "128666 🚚\n",
      "128667 🚛\n",
      "128668 🚜\n",
      "128669 🚝\n",
      "128670 🚞\n",
      "128671 🚟\n",
      "128672 🚠\n",
      "128673 🚡\n",
      "128674 🚢\n",
      "128675 🚣\n",
      "128676 🚤\n",
      "128677 🚥\n",
      "128678 🚦\n",
      "128679 🚧\n",
      "128680 🚨\n",
      "128681 🚩\n",
      "128682 🚪\n",
      "128683 🚫\n",
      "128684 🚬\n",
      "128685 🚭\n",
      "128686 🚮\n",
      "128687 🚯\n",
      "128688 🚰\n",
      "128689 🚱\n",
      "128690 🚲\n",
      "128691 🚳\n",
      "128692 🚴\n",
      "128693 🚵\n",
      "128694 🚶\n",
      "128695 🚷\n",
      "128696 🚸\n",
      "128697 🚹\n",
      "128698 🚺\n",
      "128699 🚻\n",
      "128700 🚼\n"
     ]
    }
   ],
   "source": [
    "for i in range(128500, 128701):\n",
    "    print(i, chr(i))"
   ]
  },
  {
   "attachments": {},
   "cell_type": "markdown",
   "metadata": {},
   "source": [
    "### Duplication"
   ]
  },
  {
   "cell_type": "code",
   "execution_count": 19,
   "metadata": {},
   "outputs": [
    {
     "name": "stdout",
     "output_type": "stream",
     "text": [
      "hellohellohello\n"
     ]
    }
   ],
   "source": [
    "word = 'hello'\n",
    "print(word * 3)"
   ]
  },
  {
   "cell_type": "code",
   "execution_count": 20,
   "metadata": {},
   "outputs": [
    {
     "name": "stdout",
     "output_type": "stream",
     "text": [
      "_________________________\n"
     ]
    }
   ],
   "source": [
    "print('_' * 25)"
   ]
  },
  {
   "attachments": {},
   "cell_type": "markdown",
   "metadata": {},
   "source": [
    "### Pattern"
   ]
  },
  {
   "cell_type": "code",
   "execution_count": 23,
   "metadata": {},
   "outputs": [
    {
     "name": "stdout",
     "output_type": "stream",
     "text": [
      "               *              \n",
      "             * * *            \n",
      "           * * * * *          \n",
      "         * * * * * * *        \n",
      "       * * * * * * * * *      \n",
      "     * * * * * * * * * * *    \n",
      "   * * * * * * * * * * * * *  \n"
     ]
    }
   ],
   "source": [
    "for i in range(1,15,2):\n",
    "    print((i * ' *').center(30))"
   ]
  },
  {
   "cell_type": "code",
   "execution_count": 24,
   "metadata": {},
   "outputs": [
    {
     "ename": "TypeError",
     "evalue": "'str' object does not support item assignment",
     "output_type": "error",
     "traceback": [
      "\u001b[1;31m---------------------------------------------------------------------------\u001b[0m",
      "\u001b[1;31mTypeError\u001b[0m                                 Traceback (most recent call last)",
      "Cell \u001b[1;32mIn[24], line 1\u001b[0m\n\u001b[1;32m----> 1\u001b[0m name[\u001b[39m0\u001b[39;49m] \u001b[39m=\u001b[39m \u001b[39m'\u001b[39m\u001b[39mx\u001b[39m\u001b[39m'\u001b[39m \u001b[39m# error since string are immutable\u001b[39;00m\n",
      "\u001b[1;31mTypeError\u001b[0m: 'str' object does not support item assignment"
     ]
    }
   ],
   "source": [
    "name[0] = 'x' # error since string are immutable"
   ]
  },
  {
   "cell_type": "code",
   "execution_count": null,
   "metadata": {},
   "outputs": [],
   "source": []
  }
 ],
 "metadata": {
  "kernelspec": {
   "display_name": "Python 3",
   "language": "python",
   "name": "python3"
  },
  "language_info": {
   "codemirror_mode": {
    "name": "ipython",
    "version": 3
   },
   "file_extension": ".py",
   "mimetype": "text/x-python",
   "name": "python",
   "nbconvert_exporter": "python",
   "pygments_lexer": "ipython3",
   "version": "3.9.6"
  },
  "orig_nbformat": 4,
  "vscode": {
   "interpreter": {
    "hash": "7a2f9c8974ff4a6d11562e367bb1c52ab7b8919fa3fb899aff379dcd8c9984ff"
   }
  }
 },
 "nbformat": 4,
 "nbformat_minor": 2
}
