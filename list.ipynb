{
 "cells": [
  {
   "attachments": {},
   "cell_type": "markdown",
   "metadata": {},
   "source": [
    "#### List\n",
    "\n",
    "- ordered\n",
    "- mutable\n",
    "- indexed  (positive and negative)\n",
    "- heterogenous\n",
    "- square braket[v,v2,v3]\n",
    "- list(iterable)\n"
   ]
  },
  {
   "cell_type": "code",
   "execution_count": 44,
   "metadata": {},
   "outputs": [],
   "source": [
    "a = [] #emptylist\n",
    "b = [1,2,3,5,6,7] # list of integers\n",
    "c = ['apple','banana','orange'] # list of string\n",
    "d = [[1,2,3],[4,5,6],[7,8,9]] # list of lists(nested list)\n",
    "e = ['apple',20,False,'mango',50,5,True]"
   ]
  },
  {
   "cell_type": "code",
   "execution_count": 45,
   "metadata": {},
   "outputs": [
    {
     "name": "stdout",
     "output_type": "stream",
     "text": [
      "['t', 'h', 'e', ' ', 'l', 'o', 's', 't', ' ', 'm', 'e', 't', 'a', 'l']\n"
     ]
    }
   ],
   "source": [
    "word = 'the lost metal'\n",
    "chars = list(word)\n",
    "print(chars)"
   ]
  },
  {
   "cell_type": "code",
   "execution_count": 46,
   "metadata": {},
   "outputs": [
    {
     "name": "stdout",
     "output_type": "stream",
     "text": [
      "[1, 2, 3, 1, 2, 3, 1, 2, 3, 1, 2, 3, 1, 2, 3]\n"
     ]
    }
   ],
   "source": [
    "f = [1,2,3] * 5 # repeat list 5 time\n",
    "print(f)"
   ]
  },
  {
   "cell_type": "code",
   "execution_count": 47,
   "metadata": {},
   "outputs": [],
   "source": [
    "name = input(\"enter a name:\")\n",
    "a.append(name)"
   ]
  },
  {
   "cell_type": "code",
   "execution_count": 48,
   "metadata": {},
   "outputs": [
    {
     "data": {
      "text/plain": [
       "13"
      ]
     },
     "execution_count": 48,
     "metadata": {},
     "output_type": "execute_result"
    }
   ],
   "source": [
    "movies = ['robot','singham','pushpa','run','genious',\n",
    "          'ishq','bahubali','tere nam','golmaal',\n",
    "          'pariyar','doom''mission manjnu','bad man','avangers',]\n",
    "len(movies)"
   ]
  },
  {
   "cell_type": "code",
   "execution_count": 49,
   "metadata": {},
   "outputs": [
    {
     "name": "stdout",
     "output_type": "stream",
     "text": [
      "bahubali\n",
      "avangers\n"
     ]
    }
   ],
   "source": [
    "print(movies[6])\n",
    "print(movies[-1])"
   ]
  },
  {
   "cell_type": "code",
   "execution_count": 50,
   "metadata": {},
   "outputs": [
    {
     "name": "stdout",
     "output_type": "stream",
     "text": [
      "['robot', 'singham', 'pushpa', 'run', 'avangers', 'ishq', 'bahubali', 'tere nam', 'golmaal', 'pariyar', 'doommission manjnu', 'bad man', 'avangers']\n"
     ]
    }
   ],
   "source": [
    "movies[4] = 'avangers'\n",
    "print(movies)"
   ]
  },
  {
   "attachments": {},
   "cell_type": "markdown",
   "metadata": {},
   "source": [
    "### Slicing"
   ]
  },
  {
   "cell_type": "code",
   "execution_count": 51,
   "metadata": {},
   "outputs": [
    {
     "name": "stdout",
     "output_type": "stream",
     "text": [
      "['robot', 'singham', 'pushpa', 'run', 'avangers']\n",
      "['golmaal', 'pariyar', 'doommission manjnu', 'bad man', 'avangers']\n",
      "['run', 'avangers', 'ishq', 'bahubali', 'tere nam', 'golmaal', 'pariyar']\n",
      "['avangers', 'bad man', 'doommission manjnu', 'pariyar', 'golmaal', 'tere nam', 'bahubali', 'ishq', 'avangers', 'run', 'pushpa', 'singham', 'robot']\n",
      "['robot', 'pushpa', 'avangers', 'bahubali', 'golmaal', 'doommission manjnu', 'avangers']\n",
      "['robot', 'run', 'bahubali', 'pariyar', 'avangers']\n"
     ]
    }
   ],
   "source": [
    "print(movies[:5]) # first 5 movies\n",
    "print(movies[-5:]) # last 5 movies\n",
    "print(movies[3:-3]) # all movies except first 3 and last 3\n",
    "print(movies[::-1]) # only movies but in reverse order\n",
    "print(movies[::2]) # all even index movies\n",
    "print(movies[::3]) #  every 3rd index movies"
   ]
  },
  {
   "attachments": {},
   "cell_type": "markdown",
   "metadata": {},
   "source": [
    "### method"
   ]
  },
  {
   "cell_type": "code",
   "execution_count": 53,
   "metadata": {},
   "outputs": [],
   "source": [
    "movies.append(' The Matrix')"
   ]
  },
  {
   "cell_type": "code",
   "execution_count": 55,
   "metadata": {},
   "outputs": [],
   "source": [
    "for i in range(3):\n",
    "    name = input(\"enter a name:\")\n",
    "    movies.append(name)"
   ]
  },
  {
   "cell_type": "code",
   "execution_count": 56,
   "metadata": {},
   "outputs": [
    {
     "name": "stdout",
     "output_type": "stream",
     "text": [
      "['robot', 'singham', 'pushpa', 'run', 'avangers', 'ishq', 'bahubali', 'tere nam', 'golmaal', 'pariyar', 'doommission manjnu', 'bad man', 'avangers', ' The Matrix', 'stardust', 'Stardust', 'Stardust']\n"
     ]
    }
   ],
   "source": [
    "print(movies)"
   ]
  },
  {
   "cell_type": "code",
   "execution_count": 57,
   "metadata": {},
   "outputs": [
    {
     "data": {
      "text/plain": [
       "15"
      ]
     },
     "execution_count": 57,
     "metadata": {},
     "output_type": "execute_result"
    }
   ],
   "source": [
    "movies.index('Stardust')"
   ]
  },
  {
   "cell_type": "code",
   "execution_count": 59,
   "metadata": {},
   "outputs": [
    {
     "name": "stdout",
     "output_type": "stream",
     "text": [
      "['robot', 'singham', 'pushpa', 'run', 'avangers', 'ishq', 'bahubali', 'tere nam', 'golmaal', 'pariyar', 'doommission manjnu', 'bad man', 'avangers', ' The Matrix', 'stardust', 'Stardust', 'Stardust', 'krish3', 'krish3']\n"
     ]
    }
   ],
   "source": [
    "movies.insert(17,'krish3')\n",
    "print(movies)"
   ]
  },
  {
   "cell_type": "code",
   "execution_count": 61,
   "metadata": {},
   "outputs": [
    {
     "name": "stdout",
     "output_type": "stream",
     "text": [
      "['robot', 'singham', 'pushpa', 'run', 'avangers', 'ishq', 'bahubali', 'tere nam', 'golmaal', 'pariyar', 'doommission manjnu', 'bad man', 'avangers', ' The Matrix', 'Matrix:Reloaded', 'Stardust', 'Stardust', 'krish3', 'krish3']\n"
     ]
    }
   ],
   "source": [
    "movies[-5] = 'Matrix:Reloaded'\n",
    "print(movies)"
   ]
  },
  {
   "cell_type": "code",
   "execution_count": 63,
   "metadata": {},
   "outputs": [],
   "source": [
    "movies.remove('krish3')"
   ]
  },
  {
   "cell_type": "code",
   "execution_count": 64,
   "metadata": {},
   "outputs": [
    {
     "data": {
      "text/plain": [
       "'run'"
      ]
     },
     "execution_count": 64,
     "metadata": {},
     "output_type": "execute_result"
    }
   ],
   "source": [
    "movies.pop(3) # remove movies at index 3"
   ]
  },
  {
   "cell_type": "code",
   "execution_count": 65,
   "metadata": {},
   "outputs": [
    {
     "name": "stdout",
     "output_type": "stream",
     "text": [
      "bahubali\n"
     ]
    }
   ],
   "source": [
    "movies_removed = movies.pop(5)\n",
    "print(movies_removed)"
   ]
  },
  {
   "cell_type": "code",
   "execution_count": 25,
   "metadata": {},
   "outputs": [],
   "source": [
    "x = [2,5,6]\n",
    "y = [6,7,8]"
   ]
  },
  {
   "cell_type": "code",
   "execution_count": 26,
   "metadata": {},
   "outputs": [
    {
     "data": {
      "text/plain": [
       "[2, 5, 6, 6, 7, 8]"
      ]
     },
     "execution_count": 26,
     "metadata": {},
     "output_type": "execute_result"
    }
   ],
   "source": [
    "x+y"
   ]
  },
  {
   "cell_type": "code",
   "execution_count": 28,
   "metadata": {},
   "outputs": [
    {
     "name": "stdout",
     "output_type": "stream",
     "text": [
      "[2, 5, 6, 6, 7, 8, 6, 7, 8]\n"
     ]
    }
   ],
   "source": [
    "x.extend(y)\n",
    "print(x)"
   ]
  },
  {
   "cell_type": "code",
   "execution_count": 29,
   "metadata": {},
   "outputs": [
    {
     "name": "stdout",
     "output_type": "stream",
     "text": [
      "['raj', 'run', 'run', 'avangers', 'Matrix:Reloaded', 'doommission manjnu', 'pariyar', 'golmaal', 'tere nam', 'ishq', 'avangers', 'pushpa', 'singham', 'robot']\n"
     ]
    }
   ],
   "source": [
    "movies.reverse()\n",
    "print(movies)"
   ]
  },
  {
   "cell_type": "code",
   "execution_count": 30,
   "metadata": {},
   "outputs": [
    {
     "name": "stdout",
     "output_type": "stream",
     "text": [
      "['tere nam', 'singham', 'run', 'run', 'robot', 'raj', 'pushpa', 'pariyar', 'ishq', 'golmaal', 'doommission manjnu', 'avangers', 'avangers', 'Matrix:Reloaded']\n"
     ]
    }
   ],
   "source": [
    "movies.sort(reverse=True)\n",
    "print(movies)"
   ]
  },
  {
   "cell_type": "code",
   "execution_count": 31,
   "metadata": {},
   "outputs": [
    {
     "data": {
      "text/plain": [
       "1"
      ]
     },
     "execution_count": 31,
     "metadata": {},
     "output_type": "execute_result"
    }
   ],
   "source": [
    "movies.count('pushpa')"
   ]
  },
  {
   "cell_type": "code",
   "execution_count": 32,
   "metadata": {},
   "outputs": [
    {
     "name": "stdout",
     "output_type": "stream",
     "text": [
      "4\n",
      "3\n",
      "1\n"
     ]
    }
   ],
   "source": [
    "x = [1,2,1,2,1,3,4,1,2]\n",
    "print(x.count(1))\n",
    "print(x.count(2))\n",
    "print(x.count(3))\n",
    "\n"
   ]
  },
  {
   "cell_type": "code",
   "execution_count": 33,
   "metadata": {},
   "outputs": [
    {
     "name": "stdout",
     "output_type": "stream",
     "text": [
      "[1, 2, 1, 2, 1, 3, 4, 1, 2]\n"
     ]
    }
   ],
   "source": [
    "z = x.copy()\n",
    "print(z)"
   ]
  },
  {
   "cell_type": "code",
   "execution_count": 34,
   "metadata": {},
   "outputs": [],
   "source": [
    "a = 10\n",
    "b = a # this is okk\n",
    "x = [1,2,3,4,5,6,7,8]  # list is  data structure\n",
    "y = x.copy()  # this is ok"
   ]
  },
  {
   "cell_type": "code",
   "execution_count": null,
   "metadata": {},
   "outputs": [],
   "source": []
  }
 ],
 "metadata": {
  "kernelspec": {
   "display_name": "Python 3",
   "language": "python",
   "name": "python3"
  },
  "language_info": {
   "codemirror_mode": {
    "name": "ipython",
    "version": 3
   },
   "file_extension": ".py",
   "mimetype": "text/x-python",
   "name": "python",
   "nbconvert_exporter": "python",
   "pygments_lexer": "ipython3",
   "version": "3.9.6"
  },
  "orig_nbformat": 4,
  "vscode": {
   "interpreter": {
    "hash": "7a2f9c8974ff4a6d11562e367bb1c52ab7b8919fa3fb899aff379dcd8c9984ff"
   }
  }
 },
 "nbformat": 4,
 "nbformat_minor": 2
}
