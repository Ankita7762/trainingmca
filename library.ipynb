{
 "cells": [
  {
   "attachments": {},
   "cell_type": "markdown",
   "metadata": {},
   "source": [
    "# libraries or modules\n",
    "- `import lib_name`\n",
    "- import lib_name as alias\n",
    "\n",
    "\n",
    "eg., ````import random as rd ````\n",
    "- from lib_name fun1,fun2,....\n",
    "- ```` form randam import randint,choice\n",
    "- from lib_name import *\n",
    "- from random import *"
   ]
  },
  {
   "cell_type": "code",
   "execution_count": 3,
   "metadata": {},
   "outputs": [],
   "source": [
    "import math"
   ]
  },
  {
   "cell_type": "code",
   "execution_count": 2,
   "metadata": {},
   "outputs": [
    {
     "name": "stdout",
     "output_type": "stream",
     "text": [
      "3.605551275463989\n",
      "1307674368000\n",
      "2.0\n",
      "6.643856189774725\n",
      "3.141592653589793\n",
      "2.718281828459045\n",
      "6\n",
      "72\n"
     ]
    }
   ],
   "source": [
    "print(math.sqrt(13))\n",
    "print(math.factorial(15))\n",
    "print(math.log(100,10))\n",
    "print(math.log(100,2))\n",
    "print(math.pi)\n",
    "print(math.e)\n",
    "print(math.gcd(12,18,24))\n",
    "print(math.lcm(12,18,24))"
   ]
  },
  {
   "cell_type": "code",
   "execution_count": 4,
   "metadata": {},
   "outputs": [],
   "source": [
    "from random import random , randint, choice, shuffle"
   ]
  },
  {
   "cell_type": "code",
   "execution_count": 5,
   "metadata": {},
   "outputs": [
    {
     "name": "stdout",
     "output_type": "stream",
     "text": [
      "get a random value between 0 and 1: 0.5192514788412405\n",
      "get a random integer between 50 and 100: 99\n",
      "select a random item Jill\n",
      "shuffle a list ['Jamie', 'John', 'Jack', 'Jill']\n"
     ]
    }
   ],
   "source": [
    "print('get a random value between 0 and 1:', random())\n",
    "print('get a random integer between 50 and 100:', randint(50, 100))\n",
    "print('select a random item', choice(['John','Jack','Jill','Jamie']))\n",
    "names = ['John','Jack','Jill','Jamie']\n",
    "shuffle(names)\n",
    "print('shuffle a list', names)\n"
   ]
  },
  {
   "cell_type": "code",
   "execution_count": 7,
   "metadata": {},
   "outputs": [],
   "source": [
    "from datetime import datetime as dt"
   ]
  },
  {
   "cell_type": "code",
   "execution_count": 9,
   "metadata": {},
   "outputs": [
    {
     "name": "stdout",
     "output_type": "stream",
     "text": [
      "current time 2023-03-11 10:22:14.563101\n",
      "current time 2023-03-11\n",
      "current time 10:22:14.564100\n",
      "current time <built-in method timestamp of datetime.datetime object at 0x00000203337033C0>\n",
      "year 2023\n",
      "month 3\n",
      "day 11\n"
     ]
    }
   ],
   "source": [
    "print('current time', dt.now())\n",
    "print('current time', dt.now().date())\n",
    "print('current time', dt.now().time())\n",
    "print('current time', dt.now().timestamp)\n",
    "print('year', dt.now().year)\n",
    "print('month', dt.now().month)\n",
    "print('day', dt.now().day)"
   ]
  },
  {
   "cell_type": "code",
   "execution_count": 11,
   "metadata": {},
   "outputs": [
    {
     "name": "stdout",
     "output_type": "stream",
     "text": [
      "formatted date 11/03/23\n"
     ]
    }
   ],
   "source": [
    "date = dt.strftime(dt.now(), '%d/%m/%y')\n",
    "print('formatted date',date)"
   ]
  },
  {
   "cell_type": "code",
   "execution_count": 12,
   "metadata": {},
   "outputs": [],
   "source": [
    "import os"
   ]
  },
  {
   "cell_type": "code",
   "execution_count": 14,
   "metadata": {},
   "outputs": [
    {
     "name": "stdout",
     "output_type": "stream",
     "text": [
      "current folder c:\\Users\\FG\\Documents\\trainingmca\n"
     ]
    }
   ],
   "source": [
    "print('current folder',os.getcwd())"
   ]
  },
  {
   "cell_type": "code",
   "execution_count": 15,
   "metadata": {},
   "outputs": [
    {
     "name": "stdout",
     "output_type": "stream",
     "text": [
      "['.git', 'conditions.ipynb', 'dictonnary.ipynb', 'func.ipynb', 'func2.ipynb', 'game.py', 'helloo.py', 'level1.ipynb', 'library.ipynb', 'list.ipynb', 'loops.ipynb', 'music', 'ne4.py', 'nested.py', 'nested2.py', 'nested3.py', 'str.ipynb', 't1.py', 't2.py', 't3.py', 't4.py', 't5.py', 't6.py', 't7.py', 't8.py', 't9.py', 'tuple.ipynb']\n"
     ]
    }
   ],
   "source": [
    "files = os.listdir()\n",
    "print(files)"
   ]
  },
  {
   "cell_type": "code",
   "execution_count": 29,
   "metadata": {},
   "outputs": [
    {
     "name": "stdout",
     "output_type": "stream",
     "text": [
      "['Adhar Card .pdf', 'ankita.pdf', 'certificat.jpg', 'desktop.ini', 'FirstSwingExample.class', 'JLable.java', 'My Music', 'My Pictures', 'My Videos', 'trainingmca']\n",
      "10\n"
     ]
    }
   ],
   "source": [
    "files = os.listdir(r'C:\\Users\\FG\\Documents')\n",
    "print(files)\n",
    "print(len(files))"
   ]
  },
  {
   "cell_type": "code",
   "execution_count": 26,
   "metadata": {},
   "outputs": [
    {
     "name": "stdout",
     "output_type": "stream",
     "text": [
      "=> C:\\Users\\FG\\Documents\n",
      "📁 ['My Music', 'My Pictures', 'My Videos', 'trainingmca']\n",
      "📄 ['Adhar Card .pdf', 'ankita.pdf', 'certificat.jpg', 'desktop.ini', 'FirstSwingExample.class', 'JLable.java']\n",
      "_______________\n",
      "total_files 6\n",
      "=> C:\\Users\\FG\\Documents\\trainingmca\n",
      "📁 ['.git', 'music']\n",
      "📄 ['conditions.ipynb', 'dictonnary.ipynb', 'func.ipynb', 'func2.ipynb', 'game.py', 'helloo.py', 'level1.ipynb', 'library.ipynb', 'list.ipynb', 'loops.ipynb', 'ne4.py', 'nested.py', 'nested2.py', 'nested3.py', 'str.ipynb', 't1.py', 't2.py', 't3.py', 't4.py', 't5.py', 't6.py', 't7.py', 't8.py', 't9.py', 'tuple.ipynb']\n",
      "_______________\n",
      "total_files 31\n",
      "=> C:\\Users\\FG\\Documents\\trainingmca\\.git\n",
      "📁 ['hooks', 'info', 'logs', 'objects', 'refs']\n",
      "📄 ['COMMIT_EDITMSG', 'config', 'description', 'HEAD', 'index']\n",
      "_______________\n",
      "total_files 36\n",
      "=> C:\\Users\\FG\\Documents\\trainingmca\\.git\\hooks\n",
      "📁 []\n",
      "📄 ['applypatch-msg.sample', 'commit-msg.sample', 'fsmonitor-watchman.sample', 'post-update.sample', 'pre-applypatch.sample', 'pre-commit.sample', 'pre-merge-commit.sample', 'pre-push.sample', 'pre-rebase.sample', 'pre-receive.sample', 'prepare-commit-msg.sample', 'push-to-checkout.sample', 'update.sample']\n",
      "_______________\n",
      "total_files 49\n",
      "=> C:\\Users\\FG\\Documents\\trainingmca\\.git\\info\n",
      "📁 []\n",
      "📄 ['exclude']\n",
      "_______________\n",
      "total_files 50\n",
      "=> C:\\Users\\FG\\Documents\\trainingmca\\.git\\logs\n",
      "📁 ['refs']\n",
      "📄 ['HEAD']\n",
      "_______________\n",
      "total_files 51\n",
      "=> C:\\Users\\FG\\Documents\\trainingmca\\.git\\logs\\refs\n",
      "📁 ['heads', 'remotes']\n",
      "📄 []\n",
      "_______________\n",
      "total_files 51\n",
      "=> C:\\Users\\FG\\Documents\\trainingmca\\.git\\logs\\refs\\heads\n",
      "📁 []\n",
      "📄 ['master']\n",
      "_______________\n",
      "total_files 52\n",
      "=> C:\\Users\\FG\\Documents\\trainingmca\\.git\\logs\\refs\\remotes\n",
      "📁 ['origin']\n",
      "📄 []\n",
      "_______________\n",
      "total_files 52\n",
      "=> C:\\Users\\FG\\Documents\\trainingmca\\.git\\logs\\refs\\remotes\\origin\n",
      "📁 []\n",
      "📄 ['master']\n",
      "_______________\n",
      "total_files 53\n",
      "=> C:\\Users\\FG\\Documents\\trainingmca\\.git\\objects\n",
      "📁 ['12', '17', '19', '20', '21', '2c', '2f', '36', '37', '3a', '3b', '3d', '3f', '40', '4c', '51', '54', '61', '63', '6b', '74', '75', '76', '7a', '7d', '7f', '80', '8c', 'a7', 'b2', 'c8', 'cf', 'e3', 'e5', 'ee', 'f0', 'f8', 'info', 'pack']\n",
      "📄 []\n",
      "_______________\n",
      "total_files 53\n",
      "=> C:\\Users\\FG\\Documents\\trainingmca\\.git\\objects\\12\n",
      "📁 []\n",
      "📄 ['71e6b9f9f49af10074e006337efe2723c39ce8']\n",
      "_______________\n",
      "total_files 54\n",
      "=> C:\\Users\\FG\\Documents\\trainingmca\\.git\\objects\\17\n",
      "📁 []\n",
      "📄 ['8d4896c468df70c99215701b1263bfd815ac29']\n",
      "_______________\n",
      "total_files 55\n",
      "=> C:\\Users\\FG\\Documents\\trainingmca\\.git\\objects\\19\n",
      "📁 []\n",
      "📄 ['04b5708921778fae9c01e2e266c17f34f4f380']\n",
      "_______________\n",
      "total_files 56\n",
      "=> C:\\Users\\FG\\Documents\\trainingmca\\.git\\objects\\20\n",
      "📁 []\n",
      "📄 ['3399fd13d5562c3030946d7c4ff1bd215926e4']\n",
      "_______________\n",
      "total_files 57\n",
      "=> C:\\Users\\FG\\Documents\\trainingmca\\.git\\objects\\21\n",
      "📁 []\n",
      "📄 ['912c2be98b5029498b1d04f11783255ff563cd']\n",
      "_______________\n",
      "total_files 58\n",
      "=> C:\\Users\\FG\\Documents\\trainingmca\\.git\\objects\\2c\n",
      "📁 []\n",
      "📄 ['e047dc0aad6dd37d8a752aa05130596684f9ec']\n",
      "_______________\n",
      "total_files 59\n",
      "=> C:\\Users\\FG\\Documents\\trainingmca\\.git\\objects\\2f\n",
      "📁 []\n",
      "📄 ['ffaad1ccb3ae963874c53cd3c1974eeed3088f']\n",
      "_______________\n",
      "total_files 60\n",
      "=> C:\\Users\\FG\\Documents\\trainingmca\\.git\\objects\\36\n",
      "📁 []\n",
      "📄 ['127d0e72757ce2faaa9a3c3ebfc2ef4e3555cc', 'cea9e437e1a5c518c1ec4ebafb66e172c0fa40']\n",
      "_______________\n",
      "total_files 62\n",
      "=> C:\\Users\\FG\\Documents\\trainingmca\\.git\\objects\\37\n",
      "📁 []\n",
      "📄 ['e87bc406fb53cf8f57ea09f38c9c9c34257e01']\n",
      "_______________\n",
      "total_files 63\n",
      "=> C:\\Users\\FG\\Documents\\trainingmca\\.git\\objects\\3a\n",
      "📁 []\n",
      "📄 ['f7bbaa89efebd2719772508d11b203a4f48877']\n",
      "_______________\n",
      "total_files 64\n",
      "=> C:\\Users\\FG\\Documents\\trainingmca\\.git\\objects\\3b\n",
      "📁 []\n",
      "📄 ['3691a9dab0062d92b4a14ecf45de13695c09e6']\n",
      "_______________\n",
      "total_files 65\n",
      "=> C:\\Users\\FG\\Documents\\trainingmca\\.git\\objects\\3d\n",
      "📁 []\n",
      "📄 ['8b98597fb8f0376616a149286ffc859c2b8729']\n",
      "_______________\n",
      "total_files 66\n",
      "=> C:\\Users\\FG\\Documents\\trainingmca\\.git\\objects\\3f\n",
      "📁 []\n",
      "📄 ['6c74cb07e990208ed4544b771defd3770e83f7']\n",
      "_______________\n",
      "total_files 67\n",
      "=> C:\\Users\\FG\\Documents\\trainingmca\\.git\\objects\\40\n",
      "📁 []\n",
      "📄 ['e6fd7ea650993ea0d148e260c8c730b697290b']\n",
      "_______________\n",
      "total_files 68\n",
      "=> C:\\Users\\FG\\Documents\\trainingmca\\.git\\objects\\4c\n",
      "📁 []\n",
      "📄 ['5b666dfaf5056b699df98f159b64b3598992e7']\n",
      "_______________\n",
      "total_files 69\n",
      "=> C:\\Users\\FG\\Documents\\trainingmca\\.git\\objects\\51\n",
      "📁 []\n",
      "📄 ['8dbd3b01870d531de8d0158799fb6151e954a4', 'b8defc8ed997d0ef24bbc3ae49bb6ad657e3cd']\n",
      "_______________\n",
      "total_files 71\n",
      "=> C:\\Users\\FG\\Documents\\trainingmca\\.git\\objects\\54\n",
      "📁 []\n",
      "📄 ['f13d8556d3dfc93b8c284646663c9ace230062']\n",
      "_______________\n",
      "total_files 72\n",
      "=> C:\\Users\\FG\\Documents\\trainingmca\\.git\\objects\\61\n",
      "📁 []\n",
      "📄 ['678fff0ef64be4e7ae2080d58ef6ce458cfc93']\n",
      "_______________\n",
      "total_files 73\n",
      "=> C:\\Users\\FG\\Documents\\trainingmca\\.git\\objects\\63\n",
      "📁 []\n",
      "📄 ['ca39c25418afec37c0d21c19f13e764a92de07']\n",
      "_______________\n",
      "total_files 74\n",
      "=> C:\\Users\\FG\\Documents\\trainingmca\\.git\\objects\\6b\n",
      "📁 []\n",
      "📄 ['dd8d88a466c0912133e025eae7f0a620b45bfd']\n",
      "_______________\n",
      "total_files 75\n",
      "=> C:\\Users\\FG\\Documents\\trainingmca\\.git\\objects\\74\n",
      "📁 []\n",
      "📄 ['b1667efb5102ee61681c5ae4e32019338d8cf3']\n",
      "_______________\n",
      "total_files 76\n",
      "=> C:\\Users\\FG\\Documents\\trainingmca\\.git\\objects\\75\n",
      "📁 []\n",
      "📄 ['095b94871c79436f6bfcb47c07dc333d17e19c']\n",
      "_______________\n",
      "total_files 77\n",
      "=> C:\\Users\\FG\\Documents\\trainingmca\\.git\\objects\\76\n",
      "📁 []\n",
      "📄 ['7dcecc6940ce3ec8eb88ca74b45f34c1e43649']\n",
      "_______________\n",
      "total_files 78\n",
      "=> C:\\Users\\FG\\Documents\\trainingmca\\.git\\objects\\7a\n",
      "📁 []\n",
      "📄 ['8913888519ccc069126d6a9aaba5f0a2859edf']\n",
      "_______________\n",
      "total_files 79\n",
      "=> C:\\Users\\FG\\Documents\\trainingmca\\.git\\objects\\7d\n",
      "📁 []\n",
      "📄 ['3ae231011053610a9d6a3564aa24743e4f207c']\n",
      "_______________\n",
      "total_files 80\n",
      "=> C:\\Users\\FG\\Documents\\trainingmca\\.git\\objects\\7f\n",
      "📁 []\n",
      "📄 ['aff5c8b187f8400257ebdc65e84ded51ab38f2']\n",
      "_______________\n",
      "total_files 81\n",
      "=> C:\\Users\\FG\\Documents\\trainingmca\\.git\\objects\\80\n",
      "📁 []\n",
      "📄 ['aa4e2f726c93c58deb591e042d5e770106c851']\n",
      "_______________\n",
      "total_files 82\n",
      "=> C:\\Users\\FG\\Documents\\trainingmca\\.git\\objects\\8c\n",
      "📁 []\n",
      "📄 ['6820b64388d941379a6491e3528bcf2b7fd2fc']\n",
      "_______________\n",
      "total_files 83\n",
      "=> C:\\Users\\FG\\Documents\\trainingmca\\.git\\objects\\a7\n",
      "📁 []\n",
      "📄 ['bc06c9e9460c1f086383b62db3398f7c33f3ed']\n",
      "_______________\n",
      "total_files 84\n",
      "=> C:\\Users\\FG\\Documents\\trainingmca\\.git\\objects\\b2\n",
      "📁 []\n",
      "📄 ['5bf4c7c160c0da1406628456daff2facf2af2b']\n",
      "_______________\n",
      "total_files 85\n",
      "=> C:\\Users\\FG\\Documents\\trainingmca\\.git\\objects\\c8\n",
      "📁 []\n",
      "📄 ['dae2e9c5c7cdb6206ae5eaca571e46d3a51835']\n",
      "_______________\n",
      "total_files 86\n",
      "=> C:\\Users\\FG\\Documents\\trainingmca\\.git\\objects\\cf\n",
      "📁 []\n",
      "📄 ['8759de83c14b4bf9f3ff95ae43938402adde12', '8a3ce490b47049664f9bcd7d94784723ad8195']\n",
      "_______________\n",
      "total_files 88\n",
      "=> C:\\Users\\FG\\Documents\\trainingmca\\.git\\objects\\e3\n",
      "📁 []\n",
      "📄 ['953b931c2b094f09ab463dbebf111715b0344f']\n",
      "_______________\n",
      "total_files 89\n",
      "=> C:\\Users\\FG\\Documents\\trainingmca\\.git\\objects\\e5\n",
      "📁 []\n",
      "📄 ['239061145a108464cad9272616cde13ab1db54']\n",
      "_______________\n",
      "total_files 90\n",
      "=> C:\\Users\\FG\\Documents\\trainingmca\\.git\\objects\\ee\n",
      "📁 []\n",
      "📄 ['f9031fcdee8bb444e383551b349d15551950cb']\n",
      "_______________\n",
      "total_files 91\n",
      "=> C:\\Users\\FG\\Documents\\trainingmca\\.git\\objects\\f0\n",
      "📁 []\n",
      "📄 ['7f7170aca7698bd3c8c03cc5f8ec928f1afbc3']\n",
      "_______________\n",
      "total_files 92\n",
      "=> C:\\Users\\FG\\Documents\\trainingmca\\.git\\objects\\f8\n",
      "📁 []\n",
      "📄 ['f7eb48611a64c22f4bfc8acdaffc79fc55ffec']\n",
      "_______________\n",
      "total_files 93\n",
      "=> C:\\Users\\FG\\Documents\\trainingmca\\.git\\objects\\info\n",
      "📁 []\n",
      "📄 []\n",
      "_______________\n",
      "total_files 93\n",
      "=> C:\\Users\\FG\\Documents\\trainingmca\\.git\\objects\\pack\n",
      "📁 []\n",
      "📄 []\n",
      "_______________\n",
      "total_files 93\n",
      "=> C:\\Users\\FG\\Documents\\trainingmca\\.git\\refs\n",
      "📁 ['heads', 'remotes', 'tags']\n",
      "📄 []\n",
      "_______________\n",
      "total_files 93\n",
      "=> C:\\Users\\FG\\Documents\\trainingmca\\.git\\refs\\heads\n",
      "📁 []\n",
      "📄 ['master']\n",
      "_______________\n",
      "total_files 94\n",
      "=> C:\\Users\\FG\\Documents\\trainingmca\\.git\\refs\\remotes\n",
      "📁 ['origin']\n",
      "📄 []\n",
      "_______________\n",
      "total_files 94\n",
      "=> C:\\Users\\FG\\Documents\\trainingmca\\.git\\refs\\remotes\\origin\n",
      "📁 []\n",
      "📄 ['master']\n",
      "_______________\n",
      "total_files 95\n",
      "=> C:\\Users\\FG\\Documents\\trainingmca\\.git\\refs\\tags\n",
      "📁 []\n",
      "📄 []\n",
      "_______________\n",
      "total_files 95\n",
      "=> C:\\Users\\FG\\Documents\\trainingmca\\music\n",
      "📁 []\n",
      "📄 []\n",
      "_______________\n",
      "total_files 95\n"
     ]
    }
   ],
   "source": [
    "total_files = 0\n",
    "for path, folders,files in os.walk(r'C:\\Users\\FG\\Documents'):\n",
    "    print('=>', path)\n",
    "    print('📁', folders)\n",
    "    print('📄', files)\n",
    "    print('_'*15)\n",
    "    total_files += len(files)\n",
    "    print('total_files',total_files)"
   ]
  },
  {
   "cell_type": "code",
   "execution_count": 28,
   "metadata": {},
   "outputs": [
    {
     "name": "stdout",
     "output_type": "stream",
     "text": [
      "file exists\n",
      "file size 4096 bytes\n",
      "file size 4.0 KB\n",
      "file size 0.00390625 MB\n",
      "file size 3.814697265625e-06 GB\n"
     ]
    }
   ],
   "source": [
    "file = r\"C:\\Users\\FG\\Documents\"\n",
    "if os. path.exists(file):\n",
    "    print('file exists')\n",
    "    size = os.path.getsize(file)\n",
    "    print('file size', size, 'bytes')\n",
    "    print('file size', size/1024, 'KB')\n",
    "    print('file size', size/(1024*1024), 'MB')\n",
    "    print('file size', size/(1024*1024*1024), 'GB')\n",
    "\n",
    "else:\n",
    "    print('file does not exits')    "
   ]
  },
  {
   "cell_type": "code",
   "execution_count": null,
   "metadata": {},
   "outputs": [],
   "source": []
  }
 ],
 "metadata": {
  "kernelspec": {
   "display_name": "Python 3",
   "language": "python",
   "name": "python3"
  },
  "language_info": {
   "codemirror_mode": {
    "name": "ipython",
    "version": 3
   },
   "file_extension": ".py",
   "mimetype": "text/x-python",
   "name": "python",
   "nbconvert_exporter": "python",
   "pygments_lexer": "ipython3",
   "version": "3.9.6"
  },
  "orig_nbformat": 4,
  "vscode": {
   "interpreter": {
    "hash": "7a2f9c8974ff4a6d11562e367bb1c52ab7b8919fa3fb899aff379dcd8c9984ff"
   }
  }
 },
 "nbformat": 4,
 "nbformat_minor": 2
}
